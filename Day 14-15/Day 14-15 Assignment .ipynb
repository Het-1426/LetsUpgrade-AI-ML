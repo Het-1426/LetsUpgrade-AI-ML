{
 "cells": [
  {
   "cell_type": "markdown",
   "metadata": {},
   "source": [
    "# 1. Create a 3x3x3 array with random values"
   ]
  },
  {
   "cell_type": "code",
   "execution_count": 12,
   "metadata": {},
   "outputs": [],
   "source": [
    "import numpy as np"
   ]
  },
  {
   "cell_type": "code",
   "execution_count": 18,
   "metadata": {},
   "outputs": [
    {
     "name": "stdout",
     "output_type": "stream",
     "text": [
      "[[[0.15675522 0.10014891 0.84975915]\n",
      "  [0.37177881 0.64265799 0.27131312]\n",
      "  [0.77117692 0.0130091  0.87838246]]\n",
      "\n",
      " [[0.01658318 0.16517546 0.10785946]\n",
      "  [0.76956732 0.96599707 0.03613258]\n",
      "  [0.92152688 0.44125692 0.92533954]]\n",
      "\n",
      " [[0.51631849 0.83470596 0.92834855]\n",
      "  [0.66996982 0.10907315 0.38229188]\n",
      "  [0.15438877 0.82848099 0.28307427]]]\n"
     ]
    }
   ],
   "source": [
    "arr = np.random.random((3,3,3))\n",
    "print(arr)"
   ]
  },
  {
   "cell_type": "markdown",
   "metadata": {},
   "source": [
    "# 2.Create a 5x5 matrix with values 1,2,3,4 just below the diagonal"
   ]
  },
  {
   "cell_type": "code",
   "execution_count": 33,
   "metadata": {},
   "outputs": [
    {
     "name": "stdout",
     "output_type": "stream",
     "text": [
      "[[0. 0. 0. 0. 0.]\n",
      " [1. 0. 0. 0. 0.]\n",
      " [0. 2. 0. 0. 0.]\n",
      " [0. 0. 3. 0. 0.]\n",
      " [0. 0. 0. 4. 0.]]\n"
     ]
    }
   ],
   "source": [
    "arr1 = np.zeros((5,5))\n",
    "arr1[1,0] = 1\n",
    "arr1[2,1] = 2\n",
    "arr1[3,2] = 3\n",
    "arr1[4,3] = 4\n",
    "print(arr1)"
   ]
  },
  {
   "cell_type": "markdown",
   "metadata": {},
   "source": [
    "# 3.Create a 8x8 matrix and fill it with a checkerboard pattern"
   ]
  },
  {
   "cell_type": "code",
   "execution_count": 54,
   "metadata": {},
   "outputs": [
    {
     "name": "stdout",
     "output_type": "stream",
     "text": [
      "[[0. 1. 0. 1. 0. 1. 0. 1.]\n",
      " [1. 0. 1. 0. 1. 0. 1. 0.]\n",
      " [0. 1. 0. 1. 0. 1. 0. 1.]\n",
      " [1. 0. 1. 0. 1. 0. 1. 0.]\n",
      " [0. 1. 0. 1. 0. 1. 0. 1.]\n",
      " [1. 0. 1. 0. 1. 0. 1. 0.]\n",
      " [0. 1. 0. 1. 0. 1. 0. 1.]\n",
      " [1. 0. 1. 0. 1. 0. 1. 0.]]\n"
     ]
    }
   ],
   "source": [
    "arr3 = np.zeros((8,8))\n",
    "arr3[1::2,::2] = 1\n",
    "arr3[::2,1::2] = 1\n",
    "print(arr3)"
   ]
  },
  {
   "cell_type": "markdown",
   "metadata": {},
   "source": [
    "# 4. Normalize a 5x5 random matrix"
   ]
  },
  {
   "cell_type": "code",
   "execution_count": 84,
   "metadata": {},
   "outputs": [
    {
     "name": "stdout",
     "output_type": "stream",
     "text": [
      "[0.01693981 0.97867645 0.71607355 0.61849477 0.4631637 ]\n",
      "[0.18443441 0.60552195 0.69965444 0.78870372 0.44062733]\n",
      "[0.55602289 0.03206615 0.8787114  0.91059765 0.55793395]\n",
      "[0.85333288 0.7046488  0.98377181 0.65370098 0.83757058]\n",
      "[0.44603623 0.55715471 0.57074115 0.88324092 0.98566654]\n"
     ]
    }
   ],
   "source": [
    "arr5 = np.random.random((5,5))\n",
    "square_aar5  = arr5 **2\n",
    "add_arr5 = square_aar5.sum()\n",
    "squareroot_arr5 = add_arr5 ** (1/2)\n",
    "for i in arr5:\n",
    "    i/squareroot_arr5\n",
    "    print(i)\n",
    "# note** i tried this but it no longer stays as an array so have done it from another method too"
   ]
  },
  {
   "cell_type": "markdown",
   "metadata": {},
   "source": [
    "#  OR"
   ]
  },
  {
   "cell_type": "code",
   "execution_count": 148,
   "metadata": {},
   "outputs": [
    {
     "name": "stdout",
     "output_type": "stream",
     "text": [
      "Original Array:\n",
      "[[0.6919545  0.07323106 0.52558487 0.13728744 0.36896526]\n",
      " [0.30347226 0.17628292 0.81094292 0.46473905 0.24915103]\n",
      " [0.40512279 0.48654652 0.42965357 0.93159885 0.87283911]\n",
      " [0.25185117 0.4658124  0.7380009  0.81675245 0.35979404]\n",
      " [0.6284901  0.10377373 0.28989308 0.50616582 0.32372393]]\n",
      "After normalization:\n",
      "[[0.72081391 0.         0.526993   0.0746258  0.34453087]\n",
      " [0.26823141 0.1200556  0.85943563 0.4561075  0.20494708]\n",
      " [0.38665446 0.48151325 0.41523285 1.         0.9315448 ]\n",
      " [0.20809275 0.45735796 0.77445804 0.86620374 0.33384639]\n",
      " [0.64687777 0.03558226 0.25241164 0.50436976 0.29182464]]\n"
     ]
    }
   ],
   "source": [
    "x= np.random.random((5,5))\n",
    "print(\"Original Array:\")\n",
    "print(x)\n",
    "xmax, xmin = x.max(), x.min()\n",
    "x = (x - xmin)/(xmax - xmin)\n",
    "print(\"After normalization:\")\n",
    "print(x)"
   ]
  },
  {
   "cell_type": "markdown",
   "metadata": {},
   "source": [
    "# 5. How to find common values between two arrays?"
   ]
  },
  {
   "cell_type": "code",
   "execution_count": 95,
   "metadata": {},
   "outputs": [
    {
     "name": "stdout",
     "output_type": "stream",
     "text": [
      "Array 1:  [ 1  2  3  4 12]\n",
      "Array 2:  [3 5 9 1 4]\n",
      "Common values btween x and y:  [1 3 4]\n"
     ]
    }
   ],
   "source": [
    "x = np.array(([1,2,3,4,12]))\n",
    "y = np.array(([3,5,9,1,4]))\n",
    "print(\"Array 1: \", x)\n",
    "print(\"Array 2: \", y)\n",
    "print(\"Common values btween x and y: \", np.intersect1d(x, y))"
   ]
  },
  {
   "cell_type": "markdown",
   "metadata": {},
   "source": [
    "# 6.How to get the dates of yesterday, today and tomorrow?"
   ]
  },
  {
   "cell_type": "code",
   "execution_count": 105,
   "metadata": {},
   "outputs": [],
   "source": [
    "import datetime"
   ]
  },
  {
   "cell_type": "code",
   "execution_count": 112,
   "metadata": {},
   "outputs": [
    {
     "name": "stdout",
     "output_type": "stream",
     "text": [
      "Today's date is: 2020-07-25\n",
      "Yesterday's date was:  2020-07-24\n",
      "Tomorrow's date will be:  2020-07-26\n"
     ]
    }
   ],
   "source": [
    "current_date = datetime.date.today()\n",
    "print(f\"Today's date is: {current_date}\")\n",
    "yesterdays = datetime.timedelta(-1)\n",
    "print(\"Yesterday's date was: \", (current_date + yesterdays))\n",
    "tomorrow = datetime.timedelta(1)\n",
    "print(\"Tomorrow's date will be: \", (current_date + tomorrow))"
   ]
  },
  {
   "cell_type": "markdown",
   "metadata": {},
   "source": [
    "# 7. Consider two random array A and B, check if they are equal"
   ]
  },
  {
   "cell_type": "code",
   "execution_count": 125,
   "metadata": {},
   "outputs": [
    {
     "name": "stdout",
     "output_type": "stream",
     "text": [
      "Array A: [[0.49551134 0.13439517]\n",
      " [0.25744242 0.9503256 ]]\n",
      "Array B: [[0.9892038  0.17707589]\n",
      " [0.16925671 0.43397052]]\n",
      "False\n"
     ]
    }
   ],
   "source": [
    "A = np.random.random((2,2))\n",
    "B = np.random.random((2,2))\n",
    "print(f\"Array A: {A}\")\n",
    "print(f\"Array B: {B}\")\n",
    "equal = np.allclose(A,B)\n",
    "print(equal)"
   ]
  },
  {
   "cell_type": "markdown",
   "metadata": {},
   "source": [
    "# 8.Create random vector of size 10 and replace the maximum value by 0"
   ]
  },
  {
   "cell_type": "code",
   "execution_count": 137,
   "metadata": {},
   "outputs": [
    {
     "name": "stdout",
     "output_type": "stream",
     "text": [
      "Original array: [0.55321341 0.28346018 0.96465752 0.80177251 0.60459929 0.89509535\n",
      " 0.41650206 0.9969143  0.76671555 0.51412152]\n",
      "\n",
      "Maximum value: 0.9969142951109601\n",
      "\n",
      "Maximum value changed to 0: [0.55321341 0.28346018 0.96465752 0.80177251 0.60459929 0.89509535\n",
      " 0.41650206 0.         0.76671555 0.51412152]\n",
      "\n"
     ]
    }
   ],
   "source": [
    "vector = np.random.random(10)\n",
    "print(f\"Original array: {vector}\\n\")\n",
    "max_value = vector.max()\n",
    "print(f\"Maximum value: {max_value}\\n\")\n",
    "vector[vector.argmax()] = 0\n",
    "print(f\"Maximum value changed to 0: {vector}\\n\")"
   ]
  },
  {
   "cell_type": "markdown",
   "metadata": {},
   "source": [
    "# 9. How to print all the values of an array?"
   ]
  },
  {
   "cell_type": "code",
   "execution_count": 139,
   "metadata": {},
   "outputs": [
    {
     "name": "stdout",
     "output_type": "stream",
     "text": [
      "[1 2 3 4 5]\n",
      "[6 7 8 8 9]\n"
     ]
    }
   ],
   "source": [
    "array = np.array(([1,2,3,4,5], [6,7,8,8,9]))\n",
    "for i in array:\n",
    "    print(i)"
   ]
  },
  {
   "cell_type": "markdown",
   "metadata": {},
   "source": [
    "# 10.Subtract the mean of each row of a matrix"
   ]
  },
  {
   "cell_type": "code",
   "execution_count": 7,
   "metadata": {},
   "outputs": [
    {
     "name": "stdout",
     "output_type": "stream",
     "text": [
      "original matrix:\n",
      "\n",
      "[[0.2301441  0.96750007 0.8689701  0.3186153  0.15986419 0.66764539\n",
      "  0.38427022 0.88205827 0.8915461  0.54583708]\n",
      " [0.57340865 0.67720782 0.78593568 0.45305498 0.2181273  0.19536091\n",
      "  0.47963438 0.10758595 0.9889327  0.44345222]\n",
      " [0.93597186 0.16531068 0.9093366  0.65285285 0.0624867  0.4367092\n",
      "  0.24115331 0.14680945 0.27621327 0.70408463]\n",
      " [0.35227264 0.43548417 0.96513094 0.6449602  0.29901067 0.63134723\n",
      "  0.54631975 0.43467912 0.47166082 0.54527837]\n",
      " [0.92928663 0.68522139 0.36320961 0.04724879 0.25057984 0.12004731\n",
      "  0.2713205  0.60137313 0.39938834 0.22219233]]\n",
      "\n",
      "new matrix:\n",
      "\n",
      "[[-0.26157774  0.47577823  0.37724826 -0.17310654 -0.33185765  0.17592355\n",
      "  -0.10745162  0.39033644  0.39982426  0.05411525]\n",
      " [ 0.08168681  0.18548598  0.29421384 -0.03866686 -0.27359454 -0.29636092\n",
      "  -0.01208746 -0.38413588  0.49721087 -0.04826962]\n",
      " [ 0.44425002 -0.32641115  0.41761477  0.16113102 -0.42923514 -0.05501263\n",
      "  -0.25056852 -0.34491238 -0.21550856  0.2123628 ]\n",
      " [-0.13944919 -0.05623766  0.47340911  0.15323837 -0.19271117  0.1396254\n",
      "   0.05459791 -0.05704271 -0.02006102  0.05355653]\n",
      " [ 0.43756479  0.19349955 -0.12851222 -0.44447305 -0.24114199 -0.37167453\n",
      "  -0.22040134  0.1096513  -0.09233349 -0.26952951]]\n"
     ]
    }
   ],
   "source": [
    "import numpy as np\n",
    "print('original matrix:\\n')\n",
    "matrix = np.random.rand(5,10)\n",
    "print(matrix)\n",
    "print('\\nnew matrix:\\n')\n",
    "new_matrix = matrix - matrix.mean()\n",
    "print(new_matrix)"
   ]
  },
  {
   "cell_type": "markdown",
   "metadata": {},
   "source": [
    "# 11.Consider a given vector, how to add 1 to each element indexed by a second vector (be careful with repeated indices)? "
   ]
  },
  {
   "cell_type": "code",
   "execution_count": 22,
   "metadata": {},
   "outputs": [
    {
     "name": "stdout",
     "output_type": "stream",
     "text": [
      "Original vector:\n",
      " [0.21858424 0.67304376 0.43568824 0.81303039 0.77963977 0.23477947\n",
      " 0.66248648 0.1119552  0.0663887  0.23874071 0.17949577 0.0943505\n",
      " 0.06397098 0.45388134 0.83428827]\n",
      "\n",
      "Added 1 to each element:\n",
      " [1.21858424 1.67304376 1.43568824 1.81303039 1.77963977 1.23477947\n",
      " 1.66248648 1.1119552  1.0663887  1.23874071 1.17949577 1.0943505\n",
      " 1.06397098 1.45388134 1.83428827]\n"
     ]
    }
   ],
   "source": [
    "vector_1 = np.random.rand(15)\n",
    "print('Original vector:\\n', vector_1)\n",
    "vector_1 += 1\n",
    "print(\"\\nAdded 1 to each element:\\n\", vector_1)"
   ]
  },
  {
   "cell_type": "markdown",
   "metadata": {},
   "source": [
    "# 12.How to get the diagonal of a dot product?"
   ]
  },
  {
   "cell_type": "code",
   "execution_count": 42,
   "metadata": {},
   "outputs": [
    {
     "name": "stdout",
     "output_type": "stream",
     "text": [
      "Array one:\n",
      " [[15  6  6]\n",
      " [ 4  9  3]\n",
      " [ 7  8  5]]\n",
      "\n",
      "Array two:\n",
      " [[6 2 5]\n",
      " [8 2 2]\n",
      " [2 5 3]]\n",
      "\n",
      "Dot of a and b:\n",
      " [[150  72 105]\n",
      " [102  41  47]\n",
      " [116  55  66]]\n",
      "\n",
      "Diagonal of c:\n",
      " [150  41  66]\n"
     ]
    }
   ],
   "source": [
    "a = np.array([[15,6,6],[4,9,3],[7,8,5]])\n",
    "b = np.array([[6,2,5],[8,2,2],[2,5,3]])\n",
    "print(\"Array one:\\n\", a)\n",
    "print(\"\\nArray two:\\n\", b)\n",
    "c = np.dot(a, b)\n",
    "print(\"\\nDot of a and b:\\n\", c)\n",
    "print(\"\\nDiagonal of c:\\n\", c.diagonal())"
   ]
  },
  {
   "cell_type": "markdown",
   "metadata": {},
   "source": [
    "# 13.How to find the most frequent value in an array?"
   ]
  },
  {
   "cell_type": "code",
   "execution_count": 54,
   "metadata": {},
   "outputs": [
    {
     "name": "stdout",
     "output_type": "stream",
     "text": [
      "[ 1  2  2  4  6  4  5  3  2  4  6  6  6  3  5  4  3  2  4 55  6]\n",
      "\n",
      "Maximumly repeated value is:  4\n"
     ]
    }
   ],
   "source": [
    "arra = np.array([1,2,2,4,6,4,5,3,2,4,6,6,6,3,5,4,3,2,4,55,6])\n",
    "print(arra)\n",
    "max_array = (np.bincount(arra).argmax())\n",
    "print(\"\\nMaximumly repeated value is: \", max_array)"
   ]
  },
  {
   "cell_type": "markdown",
   "metadata": {},
   "source": [
    "# 14.How to get the n largest values of an array"
   ]
  },
  {
   "cell_type": "code",
   "execution_count": 59,
   "metadata": {},
   "outputs": [
    {
     "name": "stdout",
     "output_type": "stream",
     "text": [
      "Original array:\n",
      "[ 0  1  2  3  4  5  6  7  8  9 10 11 12 13 14]\n",
      "14\n"
     ]
    }
   ],
   "source": [
    "x = np.arange(15)\n",
    "print(\"Original array:\")\n",
    "print(x)\n",
    "print (np.max(x))"
   ]
  },
  {
   "cell_type": "markdown",
   "metadata": {},
   "source": [
    "# 15.How to create a record array from a regular array?"
   ]
  },
  {
   "cell_type": "code",
   "execution_count": 62,
   "metadata": {},
   "outputs": [
    {
     "name": "stdout",
     "output_type": "stream",
     "text": [
      "Regular array:\n",
      " [25 24 29]\n",
      "\n",
      "Record array:\n",
      "               0\n",
      "Maths        25\n",
      "Accountancy  24\n",
      "economics    29\n"
     ]
    }
   ],
   "source": [
    "#regular array\n",
    "regular_array = np.array([25, 24,29])\n",
    "print(\"Regular array:\\n\", regular_array)\n",
    "import pandas as pd\n",
    "record_array = pd.DataFrame(regular_array, index=['Maths', 'Accountancy', 'economics'])\n",
    "print(\"\\nRecord array:\\n\", record_array)"
   ]
  },
  {
   "cell_type": "code",
   "execution_count": null,
   "metadata": {},
   "outputs": [],
   "source": []
  }
 ],
 "metadata": {
  "kernelspec": {
   "display_name": "Python 3",
   "language": "python",
   "name": "python3"
  },
  "language_info": {
   "codemirror_mode": {
    "name": "ipython",
    "version": 3
   },
   "file_extension": ".py",
   "mimetype": "text/x-python",
   "name": "python",
   "nbconvert_exporter": "python",
   "pygments_lexer": "ipython3",
   "version": "3.8.2"
  }
 },
 "nbformat": 4,
 "nbformat_minor": 4
}
