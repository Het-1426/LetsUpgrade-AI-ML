{
 "cells": [
  {
   "cell_type": "markdown",
   "metadata": {},
   "source": [
    "# Question 1 :\n",
    "Write a program to subtract two complex numbers in Python."
   ]
  },
  {
   "cell_type": "code",
   "execution_count": 15,
   "metadata": {},
   "outputs": [
    {
     "name": "stdout",
     "output_type": "stream",
     "text": [
      "Subtraction of two complex number 98j and  63j is = 35j\n"
     ]
    }
   ],
   "source": [
    "a = 98j\n",
    "b = 63j\n",
    "print(f\"Subtraction of two complex number {a} and  {b} is =\",  a-b)"
   ]
  },
  {
   "cell_type": "markdown",
   "metadata": {},
   "source": [
    "# Question 2 :\n",
    "Write a program to find the fourth root of a number."
   ]
  },
  {
   "cell_type": "code",
   "execution_count": 12,
   "metadata": {},
   "outputs": [
    {
     "name": "stdout",
     "output_type": "stream",
     "text": [
      "Fourth root of 4096 =  8.0\n"
     ]
    }
   ],
   "source": [
    "a = 4096\n",
    "print(f\"Fourth root of {a} = \", a**0.25)"
   ]
  },
  {
   "cell_type": "markdown",
   "metadata": {},
   "source": [
    "# Question 3:\n",
    "Write a program to swap two numbers in Python with the help of a temporary variable"
   ]
  },
  {
   "cell_type": "code",
   "execution_count": 19,
   "metadata": {},
   "outputs": [
    {
     "name": "stdout",
     "output_type": "stream",
     "text": [
      "Before Swaping a = 10 and b = 50.\n",
      "After Swaping a = 50 and b = 10.\n"
     ]
    }
   ],
   "source": [
    "a = 10\n",
    "b = 50\n",
    "print(f\"Before Swaping a = {a} and b = {b}.\")\n",
    "c = a\n",
    "a = b\n",
    "b = c\n",
    "print(f\"After Swaping a = {a} and b = {b}.\")"
   ]
  },
  {
   "cell_type": "markdown",
   "metadata": {},
   "source": [
    "# Question 4:\n",
    "Write a program to swap two numbers in Python without using a temporary variable."
   ]
  },
  {
   "cell_type": "code",
   "execution_count": 21,
   "metadata": {},
   "outputs": [
    {
     "name": "stdout",
     "output_type": "stream",
     "text": [
      "Before Swaping a = 110 and b = 150.\n",
      "After Swaping a = 150 and b = 110.\n"
     ]
    }
   ],
   "source": [
    "a = 110\n",
    "b = 150\n",
    "print(f\"Before Swaping a = {a} and b = {b}.\")\n",
    "a, b = b, a\n",
    "print(f\"After Swaping a = {a} and b = {b}.\")"
   ]
  },
  {
   "cell_type": "markdown",
   "metadata": {},
   "source": [
    "# Question 5:\n",
    "Write a program to convert fahrenheit to kelvin and celsius both."
   ]
  },
  {
   "cell_type": "code",
   "execution_count": 31,
   "metadata": {},
   "outputs": [
    {
     "name": "stdout",
     "output_type": "stream",
     "text": [
      "Enter Degree in Fahrenheit: 88\n",
      "Degree in Kelvin =  304.26111111111106\n",
      "Degree in celsius =  31.11111111111111\n"
     ]
    }
   ],
   "source": [
    "fahrenheit = int(input(\"Enter Degree in Fahrenheit: \"))\n",
    "print(\"Degree in Kelvin = \", (fahrenheit - 32) * 5/9 + 273.15 )\n",
    "print(\"Degree in celsius = \", (fahrenheit - 32) * 5/9)"
   ]
  },
  {
   "cell_type": "markdown",
   "metadata": {},
   "source": [
    "# Question 6:\n",
    "Write a program to demonstrate all the available data types in Python. Hint: Use type() function."
   ]
  },
  {
   "cell_type": "code",
   "execution_count": 30,
   "metadata": {},
   "outputs": [
    {
     "name": "stdout",
     "output_type": "stream",
     "text": [
      "Variable type of a =  <class 'int'>\n",
      "Variable type of b =  <class 'float'>\n",
      "Variable type of c =  <class 'str'>\n",
      "Variable type of d =  <class 'complex'>\n"
     ]
    }
   ],
   "source": [
    "a = 58\n",
    "b = 99.5858\n",
    "c = \"LetsUpgrade\"\n",
    "d = 61j\n",
    "print(\"Variable type of a = \", type(a))\n",
    "print(\"Variable type of b = \", type(b))\n",
    "print(\"Variable type of c = \", type(c))\n",
    "print(\"Variable type of d = \", type(d))"
   ]
  },
  {
   "cell_type": "markdown",
   "metadata": {},
   "source": [
    "# Question 7:\n",
    "Create a Markdown cell in jupyter and list the steps discussed in the session by Dr. Darshan\n",
    "Ingle sir to create Github profile and upload Githubs Assignment link."
   ]
  },
  {
   "cell_type": "markdown",
   "metadata": {},
   "source": [
    "# Steps to create github profile and upload github Assignment link\n",
    "1. Create a Github public repo and name it LetsUpgrade AI/ML\n",
    "2. Upload the files/solution in the repo in day wise manner.\n",
    "3. Copy the URL of the Folder of that day and paste in the Assignment Submission Form (Google Form)\n",
    "4. Make sure you are filling correct details in the Assignment Submission Form.\n",
    "5. All the drop-downs will be available till the week end only. i.e Previous weeks drop-down will disappear on each Sunday 11:59 PM\n",
    "6. You have to submit all the assignment given during the weekdays by respective SUNDAY 11:59 PM IST."
   ]
  },
  {
   "cell_type": "code",
   "execution_count": null,
   "metadata": {},
   "outputs": [],
   "source": []
  }
 ],
 "metadata": {
  "kernelspec": {
   "display_name": "Python 3",
   "language": "python",
   "name": "python3"
  },
  "language_info": {
   "codemirror_mode": {
    "name": "ipython",
    "version": 3
   },
   "file_extension": ".py",
   "mimetype": "text/x-python",
   "name": "python",
   "nbconvert_exporter": "python",
   "pygments_lexer": "ipython3",
   "version": "3.8.2"
  }
 },
 "nbformat": 4,
 "nbformat_minor": 4
}
