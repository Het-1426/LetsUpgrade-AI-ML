{
 "cells": [
  {
   "cell_type": "markdown",
   "metadata": {},
   "source": [
    "# Question 1 :\n",
    "Research on whether addition, subtraction, multiplication, division, floor division and modulo\n",
    "operations be performed on complex numbers. Based on your study, implement a Python\n",
    "program to demonstrate these operations.\n"
   ]
  },
  {
   "cell_type": "raw",
   "metadata": {},
   "source": [
    "complex number is number with a (real number +/-  imaginary number), in normal math complex number may contain alphabets other then \n",
    "'j' but in python a complex number can only contain the alphabet 'j'. Complex number can perform Addition, Subtraction, Multiplication, and Division. It cannot perform Floor Division and Modulo, when we try Floor Division and Modulo with complex number it will show type error. below are few examples...."
   ]
  },
  {
   "cell_type": "code",
   "execution_count": 2,
   "metadata": {},
   "outputs": [
    {
     "name": "stdout",
     "output_type": "stream",
     "text": [
      "Addition of two complex number (5+9j) and (2+15j) is = (7+24j)\n"
     ]
    }
   ],
   "source": [
    "#Addition of complex number\n",
    "a = 5 + 9j\n",
    "b = 2 + 15j\n",
    "print(f\"Addition of two complex number {a} and {b} is =\", a+b)"
   ]
  },
  {
   "cell_type": "code",
   "execution_count": 6,
   "metadata": {},
   "outputs": [
    {
     "name": "stdout",
     "output_type": "stream",
     "text": [
      "Subtraction of two complex number (15+12j) and (9+15j) is = (6-3j)\n"
     ]
    }
   ],
   "source": [
    "#Subtraction of complex number\n",
    "a = 15 + 12j\n",
    "b = 9 + 15j\n",
    "print(f\"Subtraction of two complex number {a} and {b} is =\", a-b)"
   ]
  },
  {
   "cell_type": "code",
   "execution_count": 10,
   "metadata": {},
   "outputs": [
    {
     "name": "stdout",
     "output_type": "stream",
     "text": [
      "Multiplication of two complex number (5+4j) and (8+9j) is = (4+77j)\n"
     ]
    }
   ],
   "source": [
    "#Multiplication of complex number\n",
    "a = 5 + 4j\n",
    "b = 8 + 9j\n",
    "print(f\"Multiplication of two complex number {a} and {b} is =\", a*b)"
   ]
  },
  {
   "cell_type": "code",
   "execution_count": 17,
   "metadata": {},
   "outputs": [
    {
     "name": "stdout",
     "output_type": "stream",
     "text": [
      "Division of two complex number (3+4j) and (8+6j) is = (0.48+0.14j)\n",
      "range(1, 100)\n"
     ]
    }
   ],
   "source": [
    "#Division of complex number\n",
    "a = 3 + 4j\n",
    "b = 8 + 6j\n",
    "print(f\"Division of two complex number {a} and {b} is =\", a/b"
   ]
  },
  {
   "cell_type": "markdown",
   "metadata": {},
   "source": [
    "# Question 2 :\n",
    "Research on range() functions and its parameters. Create a markdown cell and write in your own\n",
    "words (no copy-paste from google please) what you understand about it. Implement a small\n",
    "program of your choice on the same."
   ]
  },
  {
   "cell_type": "markdown",
   "metadata": {},
   "source": [
    "# Range\n",
    "range() is an in build function in python, it is helpful when a developer is supposed to make a list or tuple (anything) of integers 1-10000, rather then typing each number one by one upto 10000 like a = [1,2,3,4,5,6,7....]  the developer can use the range funtion, its parameters contain (Start value, end value) like ..-: a = list[range(1, 10000)]. \n",
    "An Interesting thing about the function range is that the end value of range is not included in it, such as :- in the end value 1oooo it contain value upto 9999 only so if you want to incude 10000 write the end value as 10001"
   ]
  },
  {
   "cell_type": "code",
   "execution_count": 20,
   "metadata": {},
   "outputs": [
    {
     "name": "stdout",
     "output_type": "stream",
     "text": [
      "[1, 2, 3, 4, 5, 6, 7, 8, 9, 10, 11, 12, 13, 14, 15, 16, 17, 18, 19, 20, 21, 22, 23, 24, 25, 26, 27, 28, 29, 30, 31, 32, 33, 34, 35, 36, 37, 38, 39, 40, 41, 42, 43, 44, 45, 46, 47, 48, 49, 50, 51, 52, 53, 54, 55, 56, 57, 58, 59, 60, 61, 62, 63, 64, 65, 66, 67, 68, 69, 70, 71, 72, 73, 74, 75, 76, 77, 78, 79, 80, 81, 82, 83, 84, 85, 86, 87, 88, 89, 90, 91, 92, 93, 94, 95, 96, 97, 98, 99]\n",
      "[1, 2, 3, 4, 5, 6, 7, 8, 9, 10, 11, 12, 13, 14, 15, 16, 17, 18, 19, 20, 21, 22, 23, 24, 25, 26, 27, 28, 29, 30, 31, 32, 33, 34, 35, 36, 37, 38, 39, 40, 41, 42, 43, 44, 45, 46, 47, 48, 49, 50, 51, 52, 53, 54, 55, 56, 57, 58, 59, 60, 61, 62, 63, 64, 65, 66, 67, 68, 69, 70, 71, 72, 73, 74, 75, 76, 77, 78, 79, 80, 81, 82, 83, 84, 85, 86, 87, 88, 89, 90, 91, 92, 93, 94, 95, 96, 97, 98, 99, 100]\n"
     ]
    }
   ],
   "source": [
    "#eg. of range function is...\n",
    "a = list(range(1,100))\n",
    "print(a)\n",
    "# AS you can see here that it doe not include 100 to include 100 we will write 101\n",
    "b = list(range(1,101))\n",
    "print(b)"
   ]
  },
  {
   "cell_type": "markdown",
   "metadata": {},
   "source": [
    "# Question 3:\n",
    " Consider two numbers. Perform their subtraction and if the result of subtraction is greater than\n",
    "25, print their multiplication result else print their division result."
   ]
  },
  {
   "cell_type": "code",
   "execution_count": 22,
   "metadata": {},
   "outputs": [
    {
     "name": "stdout",
     "output_type": "stream",
     "text": [
      "Please enter your first number: 200\n",
      "Please enter your second number: 100\n",
      "As asked the multiplication of to number is = 20000\n"
     ]
    }
   ],
   "source": [
    "a = int(input(\"Please enter your first number: \"))           #taking input of first  number\n",
    "b = int(input(\"Please enter your second number: \"))          #taking input of second number\n",
    "if a - b > 25:\n",
    "    print(f\"As asked the multiplication of to number is =\", a*b)     #condition 1\n",
    "else:\n",
    "    print(f\"As asked Division of two number is =\", a/b)         #condition 2"
   ]
  },
  {
   "cell_type": "markdown",
   "metadata": {},
   "source": [
    "# Question 4:\n",
    "Consider a list of 10 elements of integer values. If the number in the list is divisible by 2, print the\n",
    "result as \"square of that number minus 2\"."
   ]
  },
  {
   "cell_type": "code",
   "execution_count": 29,
   "metadata": {},
   "outputs": [
    {
     "name": "stdout",
     "output_type": "stream",
     "text": [
      "Square of 2  minus 2  = 2\n",
      "Square of 4  minus 2  = 14\n",
      "Square of 6  minus 2  = 34\n",
      "Square of 8  minus 2  = 62\n",
      "Square of 10  minus 2  = 98\n"
     ]
    }
   ],
   "source": [
    "a = [1,2,3,4,5,6,7,8,9,10]\n",
    "for i in a:\n",
    "    if i % 2 == 0:\n",
    "        print(f\"Square of {i}  minus 2  =\", i**2 - 2)     #here i was confused wether to write the statement or to perform it\n",
    "                                                            #so i did both of them "
   ]
  },
  {
   "cell_type": "markdown",
   "metadata": {},
   "source": [
    "# Question 5:\n",
    "Consider a list of 10 elements. Print all the elements in the list which are greater than 7 when that\n",
    "number is divided 2."
   ]
  },
  {
   "cell_type": "code",
   "execution_count": 31,
   "metadata": {},
   "outputs": [
    {
     "name": "stdout",
     "output_type": "stream",
     "text": [
      "8\n",
      "10\n",
      "12\n",
      "14\n",
      "16\n",
      "18\n",
      "20\n",
      "22\n",
      "24\n"
     ]
    }
   ],
   "source": [
    "rand_list = list(range(1,25)) #creating a list using range\n",
    "for i in rand_list:         #iterating through each character\n",
    "    if i % 2 == 0:          #condition 1 divisible to 2\n",
    "        if i > 7:          # condition 2 greater then 7\n",
    "            print(i)          # OUTPUT"
   ]
  },
  {
   "cell_type": "code",
   "execution_count": null,
   "metadata": {},
   "outputs": [],
   "source": []
  }
 ],
 "metadata": {
  "kernelspec": {
   "display_name": "Python 3",
   "language": "python",
   "name": "python3"
  },
  "language_info": {
   "codemirror_mode": {
    "name": "ipython",
    "version": 3
   },
   "file_extension": ".py",
   "mimetype": "text/x-python",
   "name": "python",
   "nbconvert_exporter": "python",
   "pygments_lexer": "ipython3",
   "version": "3.8.2"
  }
 },
 "nbformat": 4,
 "nbformat_minor": 4
}
