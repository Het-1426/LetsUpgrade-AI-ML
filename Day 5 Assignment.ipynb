{
 "cells": [
  {
   "cell_type": "markdown",
   "metadata": {},
   "source": [
    "# Question 1 :\n",
    "Write a Python program to find the first 20 non-even prime natural numbers."
   ]
  },
  {
   "cell_type": "code",
   "execution_count": 49,
   "metadata": {},
   "outputs": [],
   "source": [
    "def non_even_prime_natural_numbers():\n",
    "    for i in range(1, 100):\n",
    "        if i > 1 and i <= 73:\n",
    "            for num in range (2, i):\n",
    "                if i % num == 0:\n",
    "                    break\n",
    "                else:\n",
    "                    print(i, end= \" \")\n",
    "                    break\n",
    "#Finally done !!!! it was difficult in begining but did it anyway"
   ]
  },
  {
   "cell_type": "code",
   "execution_count": 50,
   "metadata": {},
   "outputs": [
    {
     "name": "stdout",
     "output_type": "stream",
     "text": [
      "3 5 7 9 11 13 15 17 19 21 23 25 27 29 31 33 35 37 39 41 43 45 47 49 51 53 55 57 59 61 63 65 67 69 71 73 None\n"
     ]
    }
   ],
   "source": [
    "print(non_even_prime_natural_numbers())"
   ]
  },
  {
   "cell_type": "markdown",
   "metadata": {},
   "source": [
    "# Question 2 :\n",
    "Write a Python program to implement 15 functions of string.\n"
   ]
  },
  {
   "cell_type": "code",
   "execution_count": 62,
   "metadata": {},
   "outputs": [
    {
     "name": "stdout",
     "output_type": "stream",
     "text": [
      "Lets upgrade\n",
      "1\n",
      "lets Upgrade\n",
      "False\n",
      "False\n",
      "False\n",
      "lets upgrade\n",
      "LETS UPGRADE\n",
      "['lets', 'Upgrade']\n",
      "['lets Upgrade']\n",
      "Lets Upgrade\n",
      "7\n",
      "hlets Upgradeelets Upgradeylets Upgrade lets Upgradeylets Upgradeolets Upgradeu\n",
      "lets Upgrade\n",
      "False\n"
     ]
    }
   ],
   "source": [
    "a = (\"lets Upgrade\")\n",
    "print(a.capitalize())\n",
    "print(a.count(a))\n",
    "print(a.expandtabs())\n",
    "print(a.isalpha())\n",
    "print(a.islower())\n",
    "print(a.isupper())\n",
    "print(a.lower())\n",
    "print(a.upper())\n",
    "print(a.split())\n",
    "print(a.splitlines())\n",
    "print(a.title())\n",
    "print(a.index('g'))\n",
    "print(a.join('hey you'))\n",
    "print(a.center(6))\n",
    "print(a.isalnum())"
   ]
  },
  {
   "cell_type": "markdown",
   "metadata": {},
   "source": [
    "# Question 3:\n",
    "Write a Python program to check if the given string is a Palindrome or Anagram or None of them.\n",
    "Display the message accordingly to the user."
   ]
  },
  {
   "cell_type": "code",
   "execution_count": 7,
   "metadata": {},
   "outputs": [
    {
     "name": "stdout",
     "output_type": "stream",
     "text": [
      "Welcome i will help you to find if your strings are Palindrome or Anagram\n",
      "\n",
      "Enter your 1st String: silent\n",
      "Enter your 2nd String: listen\n",
      "\n",
      "your strings are Anagram.\n"
     ]
    }
   ],
   "source": [
    "print(\"Welcome i will help you to find if your strings are Palindrome or Anagram\")\n",
    "string1 = str(input(\"\\nEnter your 1st String: \"))\n",
    "string1_reverse = string1[::-1]\n",
    "if string1 == string1_reverse:\n",
    "        print(\"\\nyes it's a Palindrome.\")\n",
    "elif string1 != string1_reverse:\n",
    "    string2 = str(input(\"Enter your 2nd String: \"))\n",
    "    if (sorted(string1) == sorted(string2)):\n",
    "        print(\"\\nyour strings are Anagram.\")\n",
    "else:\n",
    "    print(\"\\nyour string is nither a Palindrome nor a Anagram\")\n",
    "            \n",
    "        \n"
   ]
  },
  {
   "cell_type": "markdown",
   "metadata": {},
   "source": [
    "# Question 4:\n",
    "Write a Python's user defined function that removes all the additional characters from the string\n",
    "and converts it finally to lower case using built-in lower(). eg: If the string is \"Dr. Darshan Ingle\n",
    "@AI-ML Trainer\", then the output be \"drdarshaningleaimltrainer\"."
   ]
  },
  {
   "cell_type": "code",
   "execution_count": 3,
   "metadata": {},
   "outputs": [
    {
     "data": {
      "text/plain": [
       "'drdarshaningleaimltrainer'"
      ]
     },
     "execution_count": 3,
     "metadata": {},
     "output_type": "execute_result"
    }
   ],
   "source": [
    "def remove_special(input_string):\n",
    "    additional_char_list = ['!','@','#','$','%','^','&','*','(',')','-','_','+','=','{','}','[',']','\"',';',':','\\'','>','>','.',',','?','/','`','~','|','\\\\',' ']\n",
    "    for one_symbole in additional_char_list:\n",
    "        input_string = input_string.replace(one_symbole,'')\n",
    "    input_string = input_string.lower()\n",
    "\n",
    "    return input_string\n",
    "    \n",
    "remove_special('Dr. Darshan Ingle @AI-ML Trainer')\n",
    "                    \n",
    "    \n",
    "                    "
   ]
  },
  {
   "cell_type": "code",
   "execution_count": null,
   "metadata": {},
   "outputs": [],
   "source": []
  },
  {
   "cell_type": "code",
   "execution_count": null,
   "metadata": {},
   "outputs": [],
   "source": []
  }
 ],
 "metadata": {
  "kernelspec": {
   "display_name": "Python 3",
   "language": "python",
   "name": "python3"
  },
  "language_info": {
   "codemirror_mode": {
    "name": "ipython",
    "version": 3
   },
   "file_extension": ".py",
   "mimetype": "text/x-python",
   "name": "python",
   "nbconvert_exporter": "python",
   "pygments_lexer": "ipython3",
   "version": "3.8.2"
  }
 },
 "nbformat": 4,
 "nbformat_minor": 4
}
