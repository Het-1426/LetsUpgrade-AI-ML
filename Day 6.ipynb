{
 "cells": [
  {
   "cell_type": "markdown",
   "metadata": {},
   "source": [
    "# Question 1:\n",
    "Assuming that we have some email addresses in the \"username@companyname.com\" format, please write program\n",
    "to print the company name of a given email address. Both user names and company names are composed of letters\n",
    "only.\n",
    "1. Input Format:\n",
    "2. The first line of the input contains an email address.\n",
    "3. Output Format:\n",
    "4. Print the company name in single line.\n",
    "5. Example;\n",
    "6. Input:\n",
    "7. john@google.com\n",
    "8. Output:\n",
    "9. google\n"
   ]
  },
  {
   "cell_type": "code",
   "execution_count": 1,
   "metadata": {},
   "outputs": [
    {
     "name": "stdout",
     "output_type": "stream",
     "text": [
      "Enter you Mail Address: het@google.com\n",
      "google\n"
     ]
    }
   ],
   "source": [
    "input_email = input('Enter you Mail Address: ')\n",
    "company_domain = input_email.split('@')[1]\n",
    "company_name = company_domain.split('.')[0]\n",
    "print(company_name)"
   ]
  },
  {
   "cell_type": "markdown",
   "metadata": {},
   "source": [
    "# Question 2:\n",
    "Write a program that accepts a comma-separated sequence of words as input and prints the words in a comma\n",
    "separated sequence after sorting them alphabetically.\n",
    "1. Input Format:\n",
    "2. The first line of input contains words separated by the comma.\n",
    "3. Output Format:\n",
    "4. Print the sorted words separated by the comma.\n",
    "5. Example:\n",
    "6. Input:\n",
    "7. without,hello,bag,world\n",
    "8. Output:\n",
    "9. bag,hello,without,worl"
   ]
  },
  {
   "cell_type": "code",
   "execution_count": 16,
   "metadata": {},
   "outputs": [
    {
     "name": "stdout",
     "output_type": "stream",
     "text": [
      "Enter random words seperated by comma ',' *use space after each comma*: apple, pubg, mortal, viper, regaltos\n",
      "['apple,', 'mortal,', 'pubg,', 'regaltos', 'viper,']\n"
     ]
    }
   ],
   "source": [
    "word = input(\"Enter random words seperated by comma ',' *use space after each comma*: \")\n",
    "split_word = word.split()\n",
    "sort = sorted(split_word)\n",
    "print(sort)"
   ]
  },
  {
   "cell_type": "markdown",
   "metadata": {},
   "source": [
    "# Question 3:\n",
    "Create your own Jupyter Notebook for Sets.\n",
    "Reference link: https://www.w3schools.com/python/python_sets.asp"
   ]
  },
  {
   "cell_type": "code",
   "execution_count": 24,
   "metadata": {},
   "outputs": [
    {
     "data": {
      "text/plain": [
       "'A set is a collection which is unordered and unindexed. In Python sets are written with curly brackets.'"
      ]
     },
     "execution_count": 24,
     "metadata": {},
     "output_type": "execute_result"
    }
   ],
   "source": [
    "new_notebook = open('sets.txt', 'w')\n",
    "new_notebook.write(\"A set is a collection which is unordered and unindexed. In Python sets are written with curly brackets.\")\n",
    "new_notebook.close()\n",
    "new_notebook = open('sets.txt', 'r') \n",
    "new_notebook.read()\n",
    "#a file is created"
   ]
  },
  {
   "cell_type": "markdown",
   "metadata": {},
   "source": [
    "# Question 4:\n",
    "Given a list of n-1 numbers ranging from 1 to n, your task is to find the missing number. There are no duplicates.\n",
    "1. Input Format:\n",
    "2. The first line contains n-1 numbers with each number separated by a space.\n",
    "3. Output Format:\n",
    "4. Print the missing number\n",
    "5. Example:\n",
    "6. Input:1 2 4 6 3 7 8\n",
    "7. Output:5\n",
    "8. Explanation:\n",
    "9. In the above list of numbers 5 is missing and hence 5 is the input\n"
   ]
  },
  {
   "cell_type": "code",
   "execution_count": 1,
   "metadata": {},
   "outputs": [
    {
     "name": "stdout",
     "output_type": "stream",
     "text": [
      "[3, 5, 8]\n"
     ]
    }
   ],
   "source": [
    "def find_missing(lst): \n",
    "    return [x for x in range(lst[0], lst[-1]+1)  \n",
    "                               if x not in lst] \n",
    "  \n",
    "lst = [1, 2, 4, 6, 7, 9, 10] # edit your list from here\n",
    "print(find_missing(lst)) "
   ]
  },
  {
   "cell_type": "markdown",
   "metadata": {},
   "source": [
    "# Question 5:\n",
    "With a given list L, write a program to print this list L after removing all duplicate values with original order reserved.\n",
    "1. Example:\n",
    "2. If the input list is\n",
    "3. 12 24 35 24 88 120 155 88 120 155\n",
    "4. Then the output should be\n",
    "5. 12 24 35 88 120 155\n",
    "6. Explanation:\n",
    "7. Third, seventh and ninth element of the list L has been removed because it was already present.\n",
    "8. Input Format:\n",
    "9. In one line take the elements of the list L with each element separated by a space.\n",
    "10. Output Format:\n",
    "11. Print the elements of the modified list in one line with each element separated by a space.\n",
    "12. Example:\n",
    "13. Input: 12 24 35 24\n",
    "14. Output:\n",
    "15. 12 24 35\n"
   ]
  },
  {
   "cell_type": "code",
   "execution_count": 2,
   "metadata": {},
   "outputs": [
    {
     "name": "stdout",
     "output_type": "stream",
     "text": [
      "['12', '24', '35', '88', '120', '155']\n"
     ]
    }
   ],
   "source": [
    "L = ['12', '24', '35', '24', '88', '120', '155', '88', '120', '155']\n",
    "L = list(dict.fromkeys(L))\n",
    "print(L) #done !!!!!!!!!"
   ]
  },
  {
   "cell_type": "code",
   "execution_count": null,
   "metadata": {},
   "outputs": [],
   "source": []
  }
 ],
 "metadata": {
  "kernelspec": {
   "display_name": "Python 3",
   "language": "python",
   "name": "python3"
  },
  "language_info": {
   "codemirror_mode": {
    "name": "ipython",
    "version": 3
   },
   "file_extension": ".py",
   "mimetype": "text/x-python",
   "name": "python",
   "nbconvert_exporter": "python",
   "pygments_lexer": "ipython3",
   "version": "3.8.2"
  }
 },
 "nbformat": 4,
 "nbformat_minor": 4
}
