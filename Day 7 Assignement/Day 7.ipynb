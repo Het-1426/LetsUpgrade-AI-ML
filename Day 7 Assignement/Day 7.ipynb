{
 "cells": [
  {
   "cell_type": "markdown",
   "metadata": {},
   "source": [
    "# Atrriton project analysis\n"
   ]
  },
  {
   "cell_type": "code",
   "execution_count": 2,
   "metadata": {},
   "outputs": [],
   "source": [
    "import pandas as pd\n",
    "import matplotlib.pyplot as plt"
   ]
  },
  {
   "cell_type": "code",
   "execution_count": 8,
   "metadata": {},
   "outputs": [
    {
     "data": {
      "text/html": [
       "<div>\n",
       "<style scoped>\n",
       "    .dataframe tbody tr th:only-of-type {\n",
       "        vertical-align: middle;\n",
       "    }\n",
       "\n",
       "    .dataframe tbody tr th {\n",
       "        vertical-align: top;\n",
       "    }\n",
       "\n",
       "    .dataframe thead th {\n",
       "        text-align: right;\n",
       "    }\n",
       "</style>\n",
       "<table border=\"1\" class=\"dataframe\">\n",
       "  <thead>\n",
       "    <tr style=\"text-align: right;\">\n",
       "      <th></th>\n",
       "      <th>ID</th>\n",
       "      <th>Gender</th>\n",
       "      <th>Birth Date</th>\n",
       "      <th>Education</th>\n",
       "      <th>JobCategory</th>\n",
       "      <th>CurrentSalary</th>\n",
       "      <th>After6Months</th>\n",
       "      <th>SalBegin</th>\n",
       "      <th>Job Time</th>\n",
       "      <th>Prev Exep</th>\n",
       "      <th>Minority</th>\n",
       "    </tr>\n",
       "  </thead>\n",
       "  <tbody>\n",
       "    <tr>\n",
       "      <th>0</th>\n",
       "      <td>3</td>\n",
       "      <td>f</td>\n",
       "      <td>07/26/1929</td>\n",
       "      <td>12</td>\n",
       "      <td>1</td>\n",
       "      <td>21450</td>\n",
       "      <td>16725.0</td>\n",
       "      <td>12000</td>\n",
       "      <td>98</td>\n",
       "      <td>381</td>\n",
       "      <td>0</td>\n",
       "    </tr>\n",
       "    <tr>\n",
       "      <th>1</th>\n",
       "      <td>4</td>\n",
       "      <td>f</td>\n",
       "      <td>04/15/1947</td>\n",
       "      <td>8</td>\n",
       "      <td>1</td>\n",
       "      <td>21900</td>\n",
       "      <td>17550.0</td>\n",
       "      <td>13200</td>\n",
       "      <td>98</td>\n",
       "      <td>190</td>\n",
       "      <td>0</td>\n",
       "    </tr>\n",
       "    <tr>\n",
       "      <th>2</th>\n",
       "      <td>8</td>\n",
       "      <td>f</td>\n",
       "      <td>1966-06-05 00:00:00</td>\n",
       "      <td>12</td>\n",
       "      <td>1</td>\n",
       "      <td>21900</td>\n",
       "      <td>15825.0</td>\n",
       "      <td>9750</td>\n",
       "      <td>98</td>\n",
       "      <td>0</td>\n",
       "      <td>0</td>\n",
       "    </tr>\n",
       "    <tr>\n",
       "      <th>3</th>\n",
       "      <td>9</td>\n",
       "      <td>f</td>\n",
       "      <td>01/23/1946</td>\n",
       "      <td>15</td>\n",
       "      <td>1</td>\n",
       "      <td>27900</td>\n",
       "      <td>20325.0</td>\n",
       "      <td>12750</td>\n",
       "      <td>98</td>\n",
       "      <td>115</td>\n",
       "      <td>0</td>\n",
       "    </tr>\n",
       "    <tr>\n",
       "      <th>4</th>\n",
       "      <td>10</td>\n",
       "      <td>f</td>\n",
       "      <td>02/13/1946</td>\n",
       "      <td>12</td>\n",
       "      <td>1</td>\n",
       "      <td>24000</td>\n",
       "      <td>18750.0</td>\n",
       "      <td>13500</td>\n",
       "      <td>98</td>\n",
       "      <td>244</td>\n",
       "      <td>0</td>\n",
       "    </tr>\n",
       "    <tr>\n",
       "      <th>...</th>\n",
       "      <td>...</td>\n",
       "      <td>...</td>\n",
       "      <td>...</td>\n",
       "      <td>...</td>\n",
       "      <td>...</td>\n",
       "      <td>...</td>\n",
       "      <td>...</td>\n",
       "      <td>...</td>\n",
       "      <td>...</td>\n",
       "      <td>...</td>\n",
       "      <td>...</td>\n",
       "    </tr>\n",
       "    <tr>\n",
       "      <th>469</th>\n",
       "      <td>464</td>\n",
       "      <td>m</td>\n",
       "      <td>03/20/1962</td>\n",
       "      <td>19</td>\n",
       "      <td>3</td>\n",
       "      <td>47550</td>\n",
       "      <td>40275.0</td>\n",
       "      <td>33000</td>\n",
       "      <td>64</td>\n",
       "      <td>27</td>\n",
       "      <td>0</td>\n",
       "    </tr>\n",
       "    <tr>\n",
       "      <th>470</th>\n",
       "      <td>465</td>\n",
       "      <td>m</td>\n",
       "      <td>07/20/1962</td>\n",
       "      <td>12</td>\n",
       "      <td>1</td>\n",
       "      <td>33900</td>\n",
       "      <td>25200.0</td>\n",
       "      <td>16500</td>\n",
       "      <td>64</td>\n",
       "      <td>106</td>\n",
       "      <td>0</td>\n",
       "    </tr>\n",
       "    <tr>\n",
       "      <th>471</th>\n",
       "      <td>470</td>\n",
       "      <td>m</td>\n",
       "      <td>01/22/1964</td>\n",
       "      <td>12</td>\n",
       "      <td>1</td>\n",
       "      <td>26250</td>\n",
       "      <td>21000.0</td>\n",
       "      <td>15750</td>\n",
       "      <td>64</td>\n",
       "      <td>69</td>\n",
       "      <td>1</td>\n",
       "    </tr>\n",
       "    <tr>\n",
       "      <th>472</th>\n",
       "      <td>471</td>\n",
       "      <td>m</td>\n",
       "      <td>1966-03-08 00:00:00</td>\n",
       "      <td>15</td>\n",
       "      <td>1</td>\n",
       "      <td>26400</td>\n",
       "      <td>21075.0</td>\n",
       "      <td>15750</td>\n",
       "      <td>64</td>\n",
       "      <td>32</td>\n",
       "      <td>1</td>\n",
       "    </tr>\n",
       "    <tr>\n",
       "      <th>473</th>\n",
       "      <td>472</td>\n",
       "      <td>m</td>\n",
       "      <td>02/21/1966</td>\n",
       "      <td>15</td>\n",
       "      <td>1</td>\n",
       "      <td>39150</td>\n",
       "      <td>27450.0</td>\n",
       "      <td>15750</td>\n",
       "      <td>63</td>\n",
       "      <td>46</td>\n",
       "      <td>0</td>\n",
       "    </tr>\n",
       "  </tbody>\n",
       "</table>\n",
       "<p>474 rows × 11 columns</p>\n",
       "</div>"
      ],
      "text/plain": [
       "      ID Gender           Birth Date  Education  JobCategory  CurrentSalary  \\\n",
       "0      3      f           07/26/1929         12            1          21450   \n",
       "1      4      f           04/15/1947          8            1          21900   \n",
       "2      8      f  1966-06-05 00:00:00         12            1          21900   \n",
       "3      9      f           01/23/1946         15            1          27900   \n",
       "4     10      f           02/13/1946         12            1          24000   \n",
       "..   ...    ...                  ...        ...          ...            ...   \n",
       "469  464      m           03/20/1962         19            3          47550   \n",
       "470  465      m           07/20/1962         12            1          33900   \n",
       "471  470      m           01/22/1964         12            1          26250   \n",
       "472  471      m  1966-03-08 00:00:00         15            1          26400   \n",
       "473  472      m           02/21/1966         15            1          39150   \n",
       "\n",
       "     After6Months  SalBegin  Job Time  Prev Exep  Minority  \n",
       "0         16725.0     12000        98        381         0  \n",
       "1         17550.0     13200        98        190         0  \n",
       "2         15825.0      9750        98          0         0  \n",
       "3         20325.0     12750        98        115         0  \n",
       "4         18750.0     13500        98        244         0  \n",
       "..            ...       ...       ...        ...       ...  \n",
       "469       40275.0     33000        64         27         0  \n",
       "470       25200.0     16500        64        106         0  \n",
       "471       21000.0     15750        64         69         1  \n",
       "472       21075.0     15750        64         32         1  \n",
       "473       27450.0     15750        63         46         0  \n",
       "\n",
       "[474 rows x 11 columns]"
      ]
     },
     "execution_count": 8,
     "metadata": {},
     "output_type": "execute_result"
    }
   ],
   "source": [
    "dataset = pd.read_excel(\"3. Descriptive Statistics.xlsx\", sheet_name=0)  ###imported the excel sheet\n",
    "dataset"
   ]
  },
  {
   "cell_type": "code",
   "execution_count": 5,
   "metadata": {},
   "outputs": [
    {
     "data": {
      "text/plain": [
       "Index(['ID', 'Gender', 'Birth Date', 'Education', 'JobCategory',\n",
       "       'CurrentSalary', 'After6Months', 'SalBegin', 'Job Time', 'Prev Exep',\n",
       "       'Minority'],\n",
       "      dtype='object')"
      ]
     },
     "execution_count": 5,
     "metadata": {},
     "output_type": "execute_result"
    }
   ],
   "source": [
    "## checking for all the columns\n",
    "dataset.columns"
   ]
  },
  {
   "cell_type": "code",
   "execution_count": 6,
   "metadata": {},
   "outputs": [
    {
     "data": {
      "text/plain": [
       "(474, 11)"
      ]
     },
     "execution_count": 6,
     "metadata": {},
     "output_type": "execute_result"
    }
   ],
   "source": [
    "## shape of the dataset\n",
    "dataset.shape"
   ]
  },
  {
   "cell_type": "code",
   "execution_count": 7,
   "metadata": {},
   "outputs": [
    {
     "data": {
      "text/html": [
       "<div>\n",
       "<style scoped>\n",
       "    .dataframe tbody tr th:only-of-type {\n",
       "        vertical-align: middle;\n",
       "    }\n",
       "\n",
       "    .dataframe tbody tr th {\n",
       "        vertical-align: top;\n",
       "    }\n",
       "\n",
       "    .dataframe thead th {\n",
       "        text-align: right;\n",
       "    }\n",
       "</style>\n",
       "<table border=\"1\" class=\"dataframe\">\n",
       "  <thead>\n",
       "    <tr style=\"text-align: right;\">\n",
       "      <th></th>\n",
       "      <th>ID</th>\n",
       "      <th>Gender</th>\n",
       "      <th>Birth Date</th>\n",
       "      <th>Education</th>\n",
       "      <th>JobCategory</th>\n",
       "      <th>CurrentSalary</th>\n",
       "      <th>After6Months</th>\n",
       "      <th>SalBegin</th>\n",
       "      <th>Job Time</th>\n",
       "      <th>Prev Exep</th>\n",
       "      <th>Minority</th>\n",
       "    </tr>\n",
       "  </thead>\n",
       "  <tbody>\n",
       "    <tr>\n",
       "      <th>0</th>\n",
       "      <td>False</td>\n",
       "      <td>False</td>\n",
       "      <td>False</td>\n",
       "      <td>False</td>\n",
       "      <td>False</td>\n",
       "      <td>False</td>\n",
       "      <td>False</td>\n",
       "      <td>False</td>\n",
       "      <td>False</td>\n",
       "      <td>False</td>\n",
       "      <td>False</td>\n",
       "    </tr>\n",
       "    <tr>\n",
       "      <th>1</th>\n",
       "      <td>False</td>\n",
       "      <td>False</td>\n",
       "      <td>False</td>\n",
       "      <td>False</td>\n",
       "      <td>False</td>\n",
       "      <td>False</td>\n",
       "      <td>False</td>\n",
       "      <td>False</td>\n",
       "      <td>False</td>\n",
       "      <td>False</td>\n",
       "      <td>False</td>\n",
       "    </tr>\n",
       "    <tr>\n",
       "      <th>2</th>\n",
       "      <td>False</td>\n",
       "      <td>False</td>\n",
       "      <td>False</td>\n",
       "      <td>False</td>\n",
       "      <td>False</td>\n",
       "      <td>False</td>\n",
       "      <td>False</td>\n",
       "      <td>False</td>\n",
       "      <td>False</td>\n",
       "      <td>False</td>\n",
       "      <td>False</td>\n",
       "    </tr>\n",
       "    <tr>\n",
       "      <th>3</th>\n",
       "      <td>False</td>\n",
       "      <td>False</td>\n",
       "      <td>False</td>\n",
       "      <td>False</td>\n",
       "      <td>False</td>\n",
       "      <td>False</td>\n",
       "      <td>False</td>\n",
       "      <td>False</td>\n",
       "      <td>False</td>\n",
       "      <td>False</td>\n",
       "      <td>False</td>\n",
       "    </tr>\n",
       "    <tr>\n",
       "      <th>4</th>\n",
       "      <td>False</td>\n",
       "      <td>False</td>\n",
       "      <td>False</td>\n",
       "      <td>False</td>\n",
       "      <td>False</td>\n",
       "      <td>False</td>\n",
       "      <td>False</td>\n",
       "      <td>False</td>\n",
       "      <td>False</td>\n",
       "      <td>False</td>\n",
       "      <td>False</td>\n",
       "    </tr>\n",
       "    <tr>\n",
       "      <th>...</th>\n",
       "      <td>...</td>\n",
       "      <td>...</td>\n",
       "      <td>...</td>\n",
       "      <td>...</td>\n",
       "      <td>...</td>\n",
       "      <td>...</td>\n",
       "      <td>...</td>\n",
       "      <td>...</td>\n",
       "      <td>...</td>\n",
       "      <td>...</td>\n",
       "      <td>...</td>\n",
       "    </tr>\n",
       "    <tr>\n",
       "      <th>469</th>\n",
       "      <td>False</td>\n",
       "      <td>False</td>\n",
       "      <td>False</td>\n",
       "      <td>False</td>\n",
       "      <td>False</td>\n",
       "      <td>False</td>\n",
       "      <td>False</td>\n",
       "      <td>False</td>\n",
       "      <td>False</td>\n",
       "      <td>False</td>\n",
       "      <td>False</td>\n",
       "    </tr>\n",
       "    <tr>\n",
       "      <th>470</th>\n",
       "      <td>False</td>\n",
       "      <td>False</td>\n",
       "      <td>False</td>\n",
       "      <td>False</td>\n",
       "      <td>False</td>\n",
       "      <td>False</td>\n",
       "      <td>False</td>\n",
       "      <td>False</td>\n",
       "      <td>False</td>\n",
       "      <td>False</td>\n",
       "      <td>False</td>\n",
       "    </tr>\n",
       "    <tr>\n",
       "      <th>471</th>\n",
       "      <td>False</td>\n",
       "      <td>False</td>\n",
       "      <td>False</td>\n",
       "      <td>False</td>\n",
       "      <td>False</td>\n",
       "      <td>False</td>\n",
       "      <td>False</td>\n",
       "      <td>False</td>\n",
       "      <td>False</td>\n",
       "      <td>False</td>\n",
       "      <td>False</td>\n",
       "    </tr>\n",
       "    <tr>\n",
       "      <th>472</th>\n",
       "      <td>False</td>\n",
       "      <td>False</td>\n",
       "      <td>False</td>\n",
       "      <td>False</td>\n",
       "      <td>False</td>\n",
       "      <td>False</td>\n",
       "      <td>False</td>\n",
       "      <td>False</td>\n",
       "      <td>False</td>\n",
       "      <td>False</td>\n",
       "      <td>False</td>\n",
       "    </tr>\n",
       "    <tr>\n",
       "      <th>473</th>\n",
       "      <td>False</td>\n",
       "      <td>False</td>\n",
       "      <td>False</td>\n",
       "      <td>False</td>\n",
       "      <td>False</td>\n",
       "      <td>False</td>\n",
       "      <td>False</td>\n",
       "      <td>False</td>\n",
       "      <td>False</td>\n",
       "      <td>False</td>\n",
       "      <td>False</td>\n",
       "    </tr>\n",
       "  </tbody>\n",
       "</table>\n",
       "<p>474 rows × 11 columns</p>\n",
       "</div>"
      ],
      "text/plain": [
       "        ID  Gender  Birth Date  Education  JobCategory  CurrentSalary  \\\n",
       "0    False   False       False      False        False          False   \n",
       "1    False   False       False      False        False          False   \n",
       "2    False   False       False      False        False          False   \n",
       "3    False   False       False      False        False          False   \n",
       "4    False   False       False      False        False          False   \n",
       "..     ...     ...         ...        ...          ...            ...   \n",
       "469  False   False       False      False        False          False   \n",
       "470  False   False       False      False        False          False   \n",
       "471  False   False       False      False        False          False   \n",
       "472  False   False       False      False        False          False   \n",
       "473  False   False       False      False        False          False   \n",
       "\n",
       "     After6Months  SalBegin  Job Time  Prev Exep  Minority  \n",
       "0           False     False     False      False     False  \n",
       "1           False     False     False      False     False  \n",
       "2           False     False     False      False     False  \n",
       "3           False     False     False      False     False  \n",
       "4           False     False     False      False     False  \n",
       "..            ...       ...       ...        ...       ...  \n",
       "469         False     False     False      False     False  \n",
       "470         False     False     False      False     False  \n",
       "471         False     False     False      False     False  \n",
       "472         False     False     False      False     False  \n",
       "473         False     False     False      False     False  \n",
       "\n",
       "[474 rows x 11 columns]"
      ]
     },
     "execution_count": 7,
     "metadata": {},
     "output_type": "execute_result"
    }
   ],
   "source": [
    "### checking for null values\n",
    "dataset.isnull()"
   ]
  },
  {
   "cell_type": "code",
   "execution_count": 10,
   "metadata": {},
   "outputs": [
    {
     "data": {
      "text/html": [
       "<div>\n",
       "<style scoped>\n",
       "    .dataframe tbody tr th:only-of-type {\n",
       "        vertical-align: middle;\n",
       "    }\n",
       "\n",
       "    .dataframe tbody tr th {\n",
       "        vertical-align: top;\n",
       "    }\n",
       "\n",
       "    .dataframe thead th {\n",
       "        text-align: right;\n",
       "    }\n",
       "</style>\n",
       "<table border=\"1\" class=\"dataframe\">\n",
       "  <thead>\n",
       "    <tr style=\"text-align: right;\">\n",
       "      <th></th>\n",
       "      <th>ID</th>\n",
       "      <th>Education</th>\n",
       "      <th>JobCategory</th>\n",
       "      <th>CurrentSalary</th>\n",
       "      <th>After6Months</th>\n",
       "      <th>SalBegin</th>\n",
       "      <th>Job Time</th>\n",
       "      <th>Prev Exep</th>\n",
       "      <th>Minority</th>\n",
       "    </tr>\n",
       "  </thead>\n",
       "  <tbody>\n",
       "    <tr>\n",
       "      <th>count</th>\n",
       "      <td>474.000000</td>\n",
       "      <td>474.000000</td>\n",
       "      <td>474.000000</td>\n",
       "      <td>474.000000</td>\n",
       "      <td>474.000000</td>\n",
       "      <td>474.000000</td>\n",
       "      <td>474.000000</td>\n",
       "      <td>474.000000</td>\n",
       "      <td>474.000000</td>\n",
       "    </tr>\n",
       "    <tr>\n",
       "      <th>mean</th>\n",
       "      <td>237.500000</td>\n",
       "      <td>13.491561</td>\n",
       "      <td>1.411392</td>\n",
       "      <td>34419.567511</td>\n",
       "      <td>25717.827004</td>\n",
       "      <td>17016.086498</td>\n",
       "      <td>81.109705</td>\n",
       "      <td>95.860759</td>\n",
       "      <td>0.219409</td>\n",
       "    </tr>\n",
       "    <tr>\n",
       "      <th>std</th>\n",
       "      <td>136.976275</td>\n",
       "      <td>2.884846</td>\n",
       "      <td>0.773201</td>\n",
       "      <td>17075.661465</td>\n",
       "      <td>12145.928474</td>\n",
       "      <td>7870.638154</td>\n",
       "      <td>10.060945</td>\n",
       "      <td>104.586236</td>\n",
       "      <td>0.414284</td>\n",
       "    </tr>\n",
       "    <tr>\n",
       "      <th>min</th>\n",
       "      <td>1.000000</td>\n",
       "      <td>8.000000</td>\n",
       "      <td>1.000000</td>\n",
       "      <td>15750.000000</td>\n",
       "      <td>12975.000000</td>\n",
       "      <td>9000.000000</td>\n",
       "      <td>63.000000</td>\n",
       "      <td>0.000000</td>\n",
       "      <td>0.000000</td>\n",
       "    </tr>\n",
       "    <tr>\n",
       "      <th>25%</th>\n",
       "      <td>119.250000</td>\n",
       "      <td>12.000000</td>\n",
       "      <td>1.000000</td>\n",
       "      <td>24000.000000</td>\n",
       "      <td>18468.750000</td>\n",
       "      <td>12487.500000</td>\n",
       "      <td>72.000000</td>\n",
       "      <td>19.250000</td>\n",
       "      <td>0.000000</td>\n",
       "    </tr>\n",
       "    <tr>\n",
       "      <th>50%</th>\n",
       "      <td>237.500000</td>\n",
       "      <td>12.000000</td>\n",
       "      <td>1.000000</td>\n",
       "      <td>28875.000000</td>\n",
       "      <td>21900.000000</td>\n",
       "      <td>15000.000000</td>\n",
       "      <td>81.000000</td>\n",
       "      <td>55.000000</td>\n",
       "      <td>0.000000</td>\n",
       "    </tr>\n",
       "    <tr>\n",
       "      <th>75%</th>\n",
       "      <td>355.750000</td>\n",
       "      <td>15.000000</td>\n",
       "      <td>1.000000</td>\n",
       "      <td>36937.500000</td>\n",
       "      <td>27262.500000</td>\n",
       "      <td>17490.000000</td>\n",
       "      <td>90.000000</td>\n",
       "      <td>138.750000</td>\n",
       "      <td>0.000000</td>\n",
       "    </tr>\n",
       "    <tr>\n",
       "      <th>max</th>\n",
       "      <td>474.000000</td>\n",
       "      <td>21.000000</td>\n",
       "      <td>3.000000</td>\n",
       "      <td>135000.000000</td>\n",
       "      <td>107490.000000</td>\n",
       "      <td>79980.000000</td>\n",
       "      <td>98.000000</td>\n",
       "      <td>476.000000</td>\n",
       "      <td>1.000000</td>\n",
       "    </tr>\n",
       "  </tbody>\n",
       "</table>\n",
       "</div>"
      ],
      "text/plain": [
       "               ID   Education  JobCategory  CurrentSalary   After6Months  \\\n",
       "count  474.000000  474.000000   474.000000     474.000000     474.000000   \n",
       "mean   237.500000   13.491561     1.411392   34419.567511   25717.827004   \n",
       "std    136.976275    2.884846     0.773201   17075.661465   12145.928474   \n",
       "min      1.000000    8.000000     1.000000   15750.000000   12975.000000   \n",
       "25%    119.250000   12.000000     1.000000   24000.000000   18468.750000   \n",
       "50%    237.500000   12.000000     1.000000   28875.000000   21900.000000   \n",
       "75%    355.750000   15.000000     1.000000   36937.500000   27262.500000   \n",
       "max    474.000000   21.000000     3.000000  135000.000000  107490.000000   \n",
       "\n",
       "           SalBegin    Job Time   Prev Exep    Minority  \n",
       "count    474.000000  474.000000  474.000000  474.000000  \n",
       "mean   17016.086498   81.109705   95.860759    0.219409  \n",
       "std     7870.638154   10.060945  104.586236    0.414284  \n",
       "min     9000.000000   63.000000    0.000000    0.000000  \n",
       "25%    12487.500000   72.000000   19.250000    0.000000  \n",
       "50%    15000.000000   81.000000   55.000000    0.000000  \n",
       "75%    17490.000000   90.000000  138.750000    0.000000  \n",
       "max    79980.000000   98.000000  476.000000    1.000000  "
      ]
     },
     "execution_count": 10,
     "metadata": {},
     "output_type": "execute_result"
    }
   ],
   "source": [
    "### Describtion of the data\n",
    "dataset.describe()"
   ]
  },
  {
   "cell_type": "code",
   "execution_count": 19,
   "metadata": {},
   "outputs": [],
   "source": [
    "## checking for outliners\n",
    "all_countinous_columns = ['ID', 'Education', 'JobCategory',\n",
    "       'CurrentSalary', 'After6Months', 'SalBegin', 'Job Time', 'Prev Exep',\n",
    "       'Minority']"
   ]
  },
  {
   "cell_type": "code",
   "execution_count": 20,
   "metadata": {},
   "outputs": [
    {
     "name": "stdout",
     "output_type": "stream",
     "text": [
      "Box Plot For  ID\n"
     ]
    },
    {
     "data": {
      "image/png": "[encoded data removed]",
      "text/plain": [
       "<Figure size 432x288 with 1 Axes>"
      ]
     },
     "metadata": {
      "needs_background": "light"
     },
     "output_type": "display_data"
    },
    {
     "name": "stdout",
     "output_type": "stream",
     "text": [
      "Box Plot For  Education\n"
     ]
    },
    {
     "data": {
      "image/png": "[encoded data removed]",
      "text/plain": [
       "<Figure size 432x288 with 1 Axes>"
      ]
     },
     "metadata": {
      "needs_background": "light"
     },
     "output_type": "display_data"
    },
    {
     "name": "stdout",
     "output_type": "stream",
     "text": [
      "Box Plot For  JobCategory\n"
     ]
    },
    {
     "data": {
      "image/png": "[encoded data removed]",
      "text/plain": [
       "<Figure size 432x288 with 1 Axes>"
      ]
     },
     "metadata": {
      "needs_background": "light"
     },
     "output_type": "display_data"
    },
    {
     "name": "stdout",
     "output_type": "stream",
     "text": [
      "Box Plot For  CurrentSalary\n"
     ]
    },
    {
     "data": {
      "image/png": "[encoded data removed]",
      "text/plain": [
       "<Figure size 432x288 with 1 Axes>"
      ]
     },
     "metadata": {
      "needs_background": "light"
     },
     "output_type": "display_data"
    },
    {
     "name": "stdout",
     "output_type": "stream",
     "text": [
      "Box Plot For  After6Months\n"
     ]
    },
    {
     "data": {
      "image/png": "[encoded data removed]",
      "text/plain": [
       "<Figure size 432x288 with 1 Axes>"
      ]
     },
     "metadata": {
      "needs_background": "light"
     },
     "output_type": "display_data"
    },
    {
     "name": "stdout",
     "output_type": "stream",
     "text": [
      "Box Plot For  SalBegin\n"
     ]
    },
    {
     "data": {
      "image/png": "[encoded data removed]",
      "text/plain": [
       "<Figure size 432x288 with 1 Axes>"
      ]
     },
     "metadata": {
      "needs_background": "light"
     },
     "output_type": "display_data"
    },
    {
     "name": "stdout",
     "output_type": "stream",
     "text": [
      "Box Plot For  Job Time\n"
     ]
    },
    {
     "data": {
      "image/png": "[encoded data removed]",
      "text/plain": [
       "<Figure size 432x288 with 1 Axes>"
      ]
     },
     "metadata": {
      "needs_background": "light"
     },
     "output_type": "display_data"
    },
    {
     "name": "stdout",
     "output_type": "stream",
     "text": [
      "Box Plot For  Prev Exep\n"
     ]
    },
    {
     "data": {
      "image/png": "[encoded data removed]",
      "text/plain": [
       "<Figure size 432x288 with 1 Axes>"
      ]
     },
     "metadata": {
      "needs_background": "light"
     },
     "output_type": "display_data"
    },
    {
     "name": "stdout",
     "output_type": "stream",
     "text": [
      "Box Plot For  Minority\n"
     ]
    },
    {
     "data": {
      "image/png": "[encoded data removed]",
      "text/plain": [
       "<Figure size 432x288 with 1 Axes>"
      ]
     },
     "metadata": {
      "needs_background": "light"
     },
     "output_type": "display_data"
    }
   ],
   "source": [
    "for one_countinous_column in all_countinous_columns:\n",
    "    print('Box Plot For ',one_countinous_column)\n",
    "    plt.boxplot(dataset[one_countinous_column])\n",
    "    plt.show()"
   ]
  },
  {
   "cell_type": "code",
   "execution_count": 23,
   "metadata": {},
   "outputs": [
    {
     "data": {
      "text/plain": [
       "<matplotlib.collections.PathCollection at 0x12e18e80>"
      ]
     },
     "execution_count": 23,
     "metadata": {},
     "output_type": "execute_result"
    },
    {
     "data": {
      "image/png": "[encoded data removed]",
      "text/plain": [
       "<Figure size 432x288 with 1 Axes>"
      ]
     },
     "metadata": {
      "needs_background": "light"
     },
     "output_type": "display_data"
    }
   ],
   "source": [
    "### Checking for outliners using Scatter plot\n",
    "plt.scatter(dataset[all_countinous_columns], dataset[all_countinous_columns])"
   ]
  },
  {
   "cell_type": "markdown",
   "metadata": {},
   "source": [
    "# In this file we have tested the following on the excel sheet provided to us:\n",
    "1. importing requried libraries\n",
    "2. checking the data\n",
    "3. finding out mean,count,max,min,quaritle 1(25%),quartile 2(50%), quartile3(75%),standard deviation\n",
    "4. then we check for null values in the sheet provided\n",
    "5. we check for outliners in the possible columns\n",
    "6. before it we checked the shape of the sheet\n"
   ]
  },
  {
   "cell_type": "code",
   "execution_count": null,
   "metadata": {},
   "outputs": [],
   "source": []
  }
 ],
 "metadata": {
  "kernelspec": {
   "display_name": "Python 3",
   "language": "python",
   "name": "python3"
  },
  "language_info": {
   "codemirror_mode": {
    "name": "ipython",
    "version": 3
   },
   "file_extension": ".py",
   "mimetype": "text/x-python",
   "name": "python",
   "nbconvert_exporter": "python",
   "pygments_lexer": "ipython3",
   "version": "3.8.2"
  }
 },
 "nbformat": 4,
 "nbformat_minor": 4
}
